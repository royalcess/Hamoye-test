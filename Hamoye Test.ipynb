{
    "cells": [
        {
            "cell_type": "code",
            "execution_count": 1,
            "id": "f28b4fd9",
            "metadata": {},
            "outputs": [],
            "source": "import pandas as pd\nimport numpy as np\ndf = pd.read_csv(r'C:\\Users\\User\\Downloads\\FoodBalanceSheets_E_Africa_NOFLAG.csv',encoding=\"latin-1\")"
        },
        {
            "cell_type": "markdown",
            "id": "7a0d478d",
            "metadata": {},
            "source": "Answer the following questions based on the African food production dataset provided by the FAO website already provided\n\nWhat is the total sum of Animal Fat produced in 2014 and 2017 respectively?"
        },
        {
            "cell_type": "code",
            "execution_count": 3,
            "id": "47fc65dc",
            "metadata": {},
            "outputs": [
                {
                    "data": {
                        "text/html": "<div>\n<style scoped>\n    .dataframe tbody tr th:only-of-type {\n        vertical-align: middle;\n    }\n\n    .dataframe tbody tr th {\n        vertical-align: top;\n    }\n\n    .dataframe thead th {\n        text-align: right;\n    }\n</style>\n<table border=\"1\" class=\"dataframe\">\n  <thead>\n    <tr style=\"text-align: right;\">\n      <th></th>\n      <th>Area Code</th>\n      <th>Item Code</th>\n      <th>Element Code</th>\n      <th>Y2014</th>\n      <th>Y2015</th>\n      <th>Y2016</th>\n      <th>Y2017</th>\n      <th>Y2018</th>\n    </tr>\n    <tr>\n      <th>Item</th>\n      <th></th>\n      <th></th>\n      <th></th>\n      <th></th>\n      <th></th>\n      <th></th>\n      <th></th>\n      <th></th>\n    </tr>\n  </thead>\n  <tbody>\n    <tr>\n      <th>Alcohol, Non-Food</th>\n      <td>38447</td>\n      <td>752497</td>\n      <td>1515090</td>\n      <td>2403.00</td>\n      <td>2180.00</td>\n      <td>2223.00</td>\n      <td>2348.00</td>\n      <td>2293.00</td>\n    </tr>\n    <tr>\n      <th>Alcoholic Beverages</th>\n      <td>75016</td>\n      <td>1649136</td>\n      <td>2171381</td>\n      <td>102410.11</td>\n      <td>98783.72</td>\n      <td>96958.75</td>\n      <td>95581.06</td>\n      <td>97847.27</td>\n    </tr>\n    <tr>\n      <th>Animal Products</th>\n      <td>18060</td>\n      <td>397035</td>\n      <td>90990</td>\n      <td>11935.65</td>\n      <td>11811.73</td>\n      <td>11661.69</td>\n      <td>11547.65</td>\n      <td>11578.61</td>\n    </tr>\n    <tr>\n      <th>Animal fats</th>\n      <td>85279</td>\n      <td>1882494</td>\n      <td>2567303</td>\n      <td>209460.54</td>\n      <td>200675.72</td>\n      <td>183314.22</td>\n      <td>269617.53</td>\n      <td>269648.27</td>\n    </tr>\n    <tr>\n      <th>Apples and products</th>\n      <td>69280</td>\n      <td>1352989</td>\n      <td>1920418</td>\n      <td>9499.23</td>\n      <td>10559.15</td>\n      <td>9853.26</td>\n      <td>10198.90</td>\n      <td>9640.51</td>\n    </tr>\n    <tr>\n      <th>...</th>\n      <td>...</td>\n      <td>...</td>\n      <td>...</td>\n      <td>...</td>\n      <td>...</td>\n      <td>...</td>\n      <td>...</td>\n      <td>...</td>\n    </tr>\n    <tr>\n      <th>Vegetables, Other</th>\n      <td>77779</td>\n      <td>1518715</td>\n      <td>2275409</td>\n      <td>155038.96</td>\n      <td>158104.08</td>\n      <td>156218.90</td>\n      <td>157752.59</td>\n      <td>163987.21</td>\n    </tr>\n    <tr>\n      <th>Vegetal Products</th>\n      <td>18060</td>\n      <td>391905</td>\n      <td>90990</td>\n      <td>107145.19</td>\n      <td>107064.17</td>\n      <td>106792.72</td>\n      <td>107655.20</td>\n      <td>107775.39</td>\n    </tr>\n    <tr>\n      <th>Wheat and products</th>\n      <td>87073</td>\n      <td>1639683</td>\n      <td>2654934</td>\n      <td>232670.13</td>\n      <td>234710.51</td>\n      <td>239377.07</td>\n      <td>240047.62</td>\n      <td>242645.19</td>\n    </tr>\n    <tr>\n      <th>Wine</th>\n      <td>66206</td>\n      <td>1319535</td>\n      <td>1818328</td>\n      <td>4497.36</td>\n      <td>4251.81</td>\n      <td>3872.09</td>\n      <td>4178.02</td>\n      <td>4039.32</td>\n    </tr>\n    <tr>\n      <th>Yams</th>\n      <td>50798</td>\n      <td>970905</td>\n      <td>1525745</td>\n      <td>200396.96</td>\n      <td>203151.78</td>\n      <td>220626.20</td>\n      <td>229174.59</td>\n      <td>221272.09</td>\n    </tr>\n  </tbody>\n</table>\n<p>119 rows \u00d7 8 columns</p>\n</div>",
                        "text/plain": "                     Area Code  Item Code  Element Code      Y2014      Y2015  \\\nItem                                                                            \nAlcohol, Non-Food        38447     752497       1515090    2403.00    2180.00   \nAlcoholic Beverages      75016    1649136       2171381  102410.11   98783.72   \nAnimal Products          18060     397035         90990   11935.65   11811.73   \nAnimal fats              85279    1882494       2567303  209460.54  200675.72   \nApples and products      69280    1352989       1920418    9499.23   10559.15   \n...                        ...        ...           ...        ...        ...   \nVegetables, Other        77779    1518715       2275409  155038.96  158104.08   \nVegetal Products         18060     391905         90990  107145.19  107064.17   \nWheat and products       87073    1639683       2654934  232670.13  234710.51   \nWine                     66206    1319535       1818328    4497.36    4251.81   \nYams                     50798     970905       1525745  200396.96  203151.78   \n\n                         Y2016      Y2017      Y2018  \nItem                                                  \nAlcohol, Non-Food      2223.00    2348.00    2293.00  \nAlcoholic Beverages   96958.75   95581.06   97847.27  \nAnimal Products       11661.69   11547.65   11578.61  \nAnimal fats          183314.22  269617.53  269648.27  \nApples and products    9853.26   10198.90    9640.51  \n...                        ...        ...        ...  \nVegetables, Other    156218.90  157752.59  163987.21  \nVegetal Products     106792.72  107655.20  107775.39  \nWheat and products   239377.07  240047.62  242645.19  \nWine                   3872.09    4178.02    4039.32  \nYams                 220626.20  229174.59  221272.09  \n\n[119 rows x 8 columns]"
                    },
                    "execution_count": 3,
                    "metadata": {},
                    "output_type": "execute_result"
                }
            ],
            "source": "df1= df.groupby(['Item']).sum()\ndf1"
        },
        {
            "cell_type": "markdown",
            "id": "a07d38cc",
            "metadata": {},
            "source": "The total sum of Animal Fat produced in 2014 and 2017 is 209460.54 and 269617.53 respectively"
        },
        {
            "cell_type": "markdown",
            "id": "af6404df",
            "metadata": {},
            "source": "What is the mean and standard deviation across the whole dataset for the year 2015 to 3 decimal places?"
        },
        {
            "cell_type": "code",
            "execution_count": 5,
            "id": "8a8227ed",
            "metadata": {},
            "outputs": [
                {
                    "data": {
                        "text/plain": "135.23596649549236"
                    },
                    "execution_count": 5,
                    "metadata": {},
                    "output_type": "execute_result"
                }
            ],
            "source": "df['Y2015'].mean()\n"
        },
        {
            "cell_type": "code",
            "execution_count": 6,
            "id": "bf07bacb",
            "metadata": {
                "scrolled": false
            },
            "outputs": [
                {
                    "data": {
                        "text/plain": "1603.4039839423301"
                    },
                    "execution_count": 6,
                    "metadata": {},
                    "output_type": "execute_result"
                }
            ],
            "source": "df['Y2015'].std()"
        },
        {
            "cell_type": "markdown",
            "id": "8e9d73d4",
            "metadata": {},
            "source": "What is the total number and percentage of missing data in 2016 to 2 decimal places?"
        },
        {
            "cell_type": "code",
            "execution_count": 7,
            "id": "db7d982f",
            "metadata": {},
            "outputs": [
                {
                    "data": {
                        "text/plain": "1535"
                    },
                    "execution_count": 7,
                    "metadata": {},
                    "output_type": "execute_result"
                }
            ],
            "source": "df['Y2016'].isnull().sum()"
        },
        {
            "cell_type": "code",
            "execution_count": 8,
            "id": "52503a1d",
            "metadata": {
                "scrolled": false
            },
            "outputs": [
                {
                    "data": {
                        "text/plain": "2.518747025909456"
                    },
                    "execution_count": 8,
                    "metadata": {},
                    "output_type": "execute_result"
                }
            ],
            "source": "df['Y2016'].isnull().sum()*100 / len(df['Y2016'])"
        },
        {
            "cell_type": "markdown",
            "id": "bad692c3",
            "metadata": {},
            "source": "Which year had the highest correlation with \u2018Element Code\u2019? "
        },
        {
            "cell_type": "code",
            "execution_count": 10,
            "id": "0d107e38",
            "metadata": {},
            "outputs": [
                {
                    "name": "stdout",
                    "output_type": "stream",
                    "text": "0.024456819495221795\n0.02388919930163992\n0.023443997584961428\n0.02425400776004572\n0.02427857195351955\n"
                }
            ],
            "source": " corr_2014 = df['Element Code'].corr(df['Y2014'])\ncorr_2015 = df['Element Code'].corr(df['Y2015'])\ncorr_2016 = df['Element Code'].corr(df['Y2016'])\ncorr_2017 = df['Element Code'].corr(df['Y2017'])\ncorr_2018 = df['Element Code'].corr(df['Y2018'])\nprint(corr_2014)\nprint(corr_2015)\nprint(corr_2016)\nprint(corr_2017)\nprint(corr_2018)"
        },
        {
            "cell_type": "markdown",
            "id": "b41c284c",
            "metadata": {},
            "source": "Year 2014 has the highest correlation"
        },
        {
            "cell_type": "markdown",
            "id": "6de4761c",
            "metadata": {},
            "source": "What year has the highest sum of Import Quantity?"
        },
        {
            "cell_type": "code",
            "execution_count": 11,
            "id": "9ac9f59f",
            "metadata": {},
            "outputs": [
                {
                    "data": {
                        "text/html": "<div>\n<style scoped>\n    .dataframe tbody tr th:only-of-type {\n        vertical-align: middle;\n    }\n\n    .dataframe tbody tr th {\n        vertical-align: top;\n    }\n\n    .dataframe thead th {\n        text-align: right;\n    }\n</style>\n<table border=\"1\" class=\"dataframe\">\n  <thead>\n    <tr style=\"text-align: right;\">\n      <th></th>\n      <th>Area Code</th>\n      <th>Item Code</th>\n      <th>Element Code</th>\n      <th>Y2014</th>\n      <th>Y2015</th>\n      <th>Y2016</th>\n      <th>Y2017</th>\n      <th>Y2018</th>\n    </tr>\n    <tr>\n      <th>Element</th>\n      <th></th>\n      <th></th>\n      <th></th>\n      <th></th>\n      <th></th>\n      <th></th>\n      <th></th>\n      <th></th>\n    </tr>\n  </thead>\n  <tbody>\n    <tr>\n      <th>Domestic supply quantity</th>\n      <td>708993</td>\n      <td>14197445</td>\n      <td>28068795</td>\n      <td>1996716.35</td>\n      <td>2021493.55</td>\n      <td>2044842.70</td>\n      <td>2088198.10</td>\n      <td>2161192.10</td>\n    </tr>\n    <tr>\n      <th>Export Quantity</th>\n      <td>599910</td>\n      <td>11840553</td>\n      <td>26026133</td>\n      <td>150020.64</td>\n      <td>157614.47</td>\n      <td>151920.46</td>\n      <td>182338.80</td>\n      <td>181594.80</td>\n    </tr>\n    <tr>\n      <th>Fat supply quantity (g/capita/day)</th>\n      <td>675050</td>\n      <td>13535000</td>\n      <td>3435732</td>\n      <td>10225.56</td>\n      <td>10235.74</td>\n      <td>10102.77</td>\n      <td>10253.84</td>\n      <td>10258.69</td>\n    </tr>\n    <tr>\n      <th>Feed</th>\n      <td>176272</td>\n      <td>3538507</td>\n      <td>7282199</td>\n      <td>216927.89</td>\n      <td>225050.22</td>\n      <td>228958.65</td>\n      <td>223705.68</td>\n      <td>233489.68</td>\n    </tr>\n    <tr>\n      <th>Food</th>\n      <td>663295</td>\n      <td>13285035</td>\n      <td>25406622</td>\n      <td>1212332.49</td>\n      <td>1232361.10</td>\n      <td>1247022.17</td>\n      <td>1258888.28</td>\n      <td>1303841.28</td>\n    </tr>\n    <tr>\n      <th>Food supply (kcal/capita/day)</th>\n      <td>674057</td>\n      <td>13511060</td>\n      <td>3329296</td>\n      <td>454257.00</td>\n      <td>453383.00</td>\n      <td>451810.00</td>\n      <td>454681.00</td>\n      <td>455261.00</td>\n    </tr>\n    <tr>\n      <th>Food supply quantity (kg/capita/yr)</th>\n      <td>658446</td>\n      <td>13185401</td>\n      <td>3163725</td>\n      <td>49650.63</td>\n      <td>49345.13</td>\n      <td>48985.28</td>\n      <td>48690.04</td>\n      <td>49056.85</td>\n    </tr>\n    <tr>\n      <th>Import Quantity</th>\n      <td>688174</td>\n      <td>13795966</td>\n      <td>28834929</td>\n      <td>274144.48</td>\n      <td>267018.46</td>\n      <td>286582.78</td>\n      <td>294559.09</td>\n      <td>287997.09</td>\n    </tr>\n    <tr>\n      <th>Losses</th>\n      <td>274353</td>\n      <td>5424803</td>\n      <td>10292107</td>\n      <td>153223.00</td>\n      <td>155439.00</td>\n      <td>157787.00</td>\n      <td>160614.00</td>\n      <td>163902.00</td>\n    </tr>\n    <tr>\n      <th>Other uses (non-food)</th>\n      <td>235554</td>\n      <td>4729749</td>\n      <td>8926728</td>\n      <td>78718.13</td>\n      <td>66254.41</td>\n      <td>69563.68</td>\n      <td>91645.97</td>\n      <td>91300.97</td>\n    </tr>\n    <tr>\n      <th>Processing</th>\n      <td>271940</td>\n      <td>5350416</td>\n      <td>10313310</td>\n      <td>282923.00</td>\n      <td>287929.00</td>\n      <td>280631.00</td>\n      <td>292836.00</td>\n      <td>308429.00</td>\n    </tr>\n    <tr>\n      <th>Production</th>\n      <td>526751</td>\n      <td>10450053</td>\n      <td>21388191</td>\n      <td>1931287.75</td>\n      <td>1947019.39</td>\n      <td>1943537.15</td>\n      <td>2030056.89</td>\n      <td>2075072.89</td>\n    </tr>\n    <tr>\n      <th>Protein supply quantity (g/capita/day)</th>\n      <td>675050</td>\n      <td>13535000</td>\n      <td>3385502</td>\n      <td>11836.46</td>\n      <td>11833.95</td>\n      <td>11779.69</td>\n      <td>11842.45</td>\n      <td>11833.56</td>\n    </tr>\n    <tr>\n      <th>Residuals</th>\n      <td>623271</td>\n      <td>12421089</td>\n      <td>24066350</td>\n      <td>30149.00</td>\n      <td>30045.00</td>\n      <td>37224.00</td>\n      <td>35500.00</td>\n      <td>34864.00</td>\n    </tr>\n    <tr>\n      <th>Seed</th>\n      <td>103537</td>\n      <td>2035933</td>\n      <td>4211574</td>\n      <td>21922.92</td>\n      <td>23976.82</td>\n      <td>23389.20</td>\n      <td>24870.14</td>\n      <td>25263.14</td>\n    </tr>\n    <tr>\n      <th>Stock Variation</th>\n      <td>571566</td>\n      <td>11329527</td>\n      <td>21464704</td>\n      <td>58749.83</td>\n      <td>34910.99</td>\n      <td>33140.12</td>\n      <td>54316.91</td>\n      <td>20577.91</td>\n    </tr>\n    <tr>\n      <th>Total Population - Both sexes</th>\n      <td>6020</td>\n      <td>112545</td>\n      <td>22995</td>\n      <td>1031585.00</td>\n      <td>1058081.00</td>\n      <td>1085107.00</td>\n      <td>1112641.00</td>\n      <td>1140605.00</td>\n    </tr>\n    <tr>\n      <th>Tourist consumption</th>\n      <td>50308</td>\n      <td>1486528</td>\n      <td>2869905</td>\n      <td>416.00</td>\n      <td>349.00</td>\n      <td>89.00</td>\n      <td>91.00</td>\n      <td>90.00</td>\n    </tr>\n  </tbody>\n</table>\n</div>",
                        "text/plain": "                                        Area Code  Item Code  Element Code  \\\nElement                                                                      \nDomestic supply quantity                   708993   14197445      28068795   \nExport Quantity                            599910   11840553      26026133   \nFat supply quantity (g/capita/day)         675050   13535000       3435732   \nFeed                                       176272    3538507       7282199   \nFood                                       663295   13285035      25406622   \nFood supply (kcal/capita/day)              674057   13511060       3329296   \nFood supply quantity (kg/capita/yr)        658446   13185401       3163725   \nImport Quantity                            688174   13795966      28834929   \nLosses                                     274353    5424803      10292107   \nOther uses (non-food)                      235554    4729749       8926728   \nProcessing                                 271940    5350416      10313310   \nProduction                                 526751   10450053      21388191   \nProtein supply quantity (g/capita/day)     675050   13535000       3385502   \nResiduals                                  623271   12421089      24066350   \nSeed                                       103537    2035933       4211574   \nStock Variation                            571566   11329527      21464704   \nTotal Population - Both sexes                6020     112545         22995   \nTourist consumption                         50308    1486528       2869905   \n\n                                             Y2014       Y2015       Y2016  \\\nElement                                                                      \nDomestic supply quantity                1996716.35  2021493.55  2044842.70   \nExport Quantity                          150020.64   157614.47   151920.46   \nFat supply quantity (g/capita/day)        10225.56    10235.74    10102.77   \nFeed                                     216927.89   225050.22   228958.65   \nFood                                    1212332.49  1232361.10  1247022.17   \nFood supply (kcal/capita/day)            454257.00   453383.00   451810.00   \nFood supply quantity (kg/capita/yr)       49650.63    49345.13    48985.28   \nImport Quantity                          274144.48   267018.46   286582.78   \nLosses                                   153223.00   155439.00   157787.00   \nOther uses (non-food)                     78718.13    66254.41    69563.68   \nProcessing                               282923.00   287929.00   280631.00   \nProduction                              1931287.75  1947019.39  1943537.15   \nProtein supply quantity (g/capita/day)    11836.46    11833.95    11779.69   \nResiduals                                 30149.00    30045.00    37224.00   \nSeed                                      21922.92    23976.82    23389.20   \nStock Variation                           58749.83    34910.99    33140.12   \nTotal Population - Both sexes           1031585.00  1058081.00  1085107.00   \nTourist consumption                         416.00      349.00       89.00   \n\n                                             Y2017       Y2018  \nElement                                                         \nDomestic supply quantity                2088198.10  2161192.10  \nExport Quantity                          182338.80   181594.80  \nFat supply quantity (g/capita/day)        10253.84    10258.69  \nFeed                                     223705.68   233489.68  \nFood                                    1258888.28  1303841.28  \nFood supply (kcal/capita/day)            454681.00   455261.00  \nFood supply quantity (kg/capita/yr)       48690.04    49056.85  \nImport Quantity                          294559.09   287997.09  \nLosses                                   160614.00   163902.00  \nOther uses (non-food)                     91645.97    91300.97  \nProcessing                               292836.00   308429.00  \nProduction                              2030056.89  2075072.89  \nProtein supply quantity (g/capita/day)    11842.45    11833.56  \nResiduals                                 35500.00    34864.00  \nSeed                                      24870.14    25263.14  \nStock Variation                           54316.91    20577.91  \nTotal Population - Both sexes           1112641.00  1140605.00  \nTourist consumption                          91.00       90.00  "
                    },
                    "execution_count": 11,
                    "metadata": {},
                    "output_type": "execute_result"
                }
            ],
            "source": "df2 = df.groupby(['Element']).sum()\ndf2"
        },
        {
            "cell_type": "markdown",
            "id": "9aef04a8",
            "metadata": {},
            "source": "From the results above, Year 2017 has the highest sum of import quantity"
        },
        {
            "cell_type": "markdown",
            "id": "cddb1450",
            "metadata": {},
            "source": "What is the total number of the sum of Production in 2014?\n\nFrom the results above, 1931287.75"
        },
        {
            "cell_type": "markdown",
            "id": "344b093b",
            "metadata": {},
            "source": "Which of these elements had the highest sum in 2018?\n\nFrom the results above, Domestic supply quantity "
        },
        {
            "cell_type": "markdown",
            "id": "025813e8",
            "metadata": {},
            "source": "Which of these elements had the 3rd lowest sum in 2018?\n\nFrom the results above, Protein supply quantity (g/capita/day)"
        },
        {
            "cell_type": "markdown",
            "id": "25fccc89",
            "metadata": {},
            "source": "What is the total Import Quantity in Algeria in 2018?"
        },
        {
            "cell_type": "code",
            "execution_count": 19,
            "id": "c36112ce",
            "metadata": {},
            "outputs": [
                {
                    "data": {
                        "text/plain": "Area     Element                               \nAlgeria  Domestic supply quantity                  90023.42\n         Export Quantity                             811.54\n         Fat supply quantity (g/capita/day)          309.09\n         Feed                                      10668.00\n         Food                                      63736.33\n         Food supply (kcal/capita/day)             13288.00\n         Food supply quantity (kg/capita/yr)        1509.28\n         Import Quantity                           36238.29\n         Losses                                     7708.00\n         Other uses (non-food)                      3970.08\n         Processing                                 2479.00\n         Production                                60766.67\n         Protein supply quantity (g/capita/day)      367.28\n         Residuals                                   630.00\n         Seed                                        825.00\n         Stock Variation                            6172.00\n         Total Population - Both sexes             42228.00\nAngola   Domestic supply quantity                  59590.22\nName: Y2018, dtype: float64"
                    },
                    "execution_count": 19,
                    "metadata": {},
                    "output_type": "execute_result"
                }
            ],
            "source": "df3 = df.groupby(['Area','Element']).sum()\ndf3['Y2018'].head(18)"
        },
        {
            "cell_type": "markdown",
            "id": "69df57e9",
            "metadata": {},
            "source": "From the results above, 36238.29"
        },
        {
            "cell_type": "markdown",
            "id": "23c483af",
            "metadata": {},
            "source": "What is the total number of unique countries in the dataset?"
        },
        {
            "cell_type": "code",
            "execution_count": 20,
            "id": "ca8fcc65",
            "metadata": {},
            "outputs": [
                {
                    "data": {
                        "text/plain": "Area Code         49\nArea              49\nItem Code        122\nItem             119\nElement Code      18\nElement           18\nUnit               5\nY2014           4493\nY2015           4520\nY2016           4520\nY2017           4537\nY2018           4591\ndtype: int64"
                    },
                    "execution_count": 20,
                    "metadata": {},
                    "output_type": "execute_result"
                }
            ],
            "source": "df.nunique()"
        },
        {
            "cell_type": "markdown",
            "id": "28f4cf84",
            "metadata": {},
            "source": "From the results above, the total number of unique countries is 49"
        }
    ],
    "metadata": {
        "kernelspec": {
            "display_name": "Python 3.9",
            "language": "python",
            "name": "python3"
        },
        "language_info": {
            "codemirror_mode": {
                "name": "ipython",
                "version": 3
            },
            "file_extension": ".py",
            "mimetype": "text/x-python",
            "name": "python",
            "nbconvert_exporter": "python",
            "pygments_lexer": "ipython3",
            "version": "3.9.12"
        }
    },
    "nbformat": 4,
    "nbformat_minor": 5
}